{
 "cells": [
  {
   "cell_type": "markdown",
   "metadata": {},
   "source": [
    "1.\tWrite a Python Program to Find LCM?"
   ]
  },
  {
   "cell_type": "code",
   "execution_count": 3,
   "metadata": {},
   "outputs": [],
   "source": [
    "###Answer1\n",
    "def find_lcm():\n",
    "    num1 = int(input(\"Enter first number: \"))\n",
    "    num2 = int(input(\"Enter second number: \"))\n",
    "    \n",
    "    if num1 > num2:\n",
    "        greater_num = num1\n",
    "    else:\n",
    "        greater_num = num2\n",
    "        \n",
    "    while(True):\n",
    "        if((greater_num % num1 == 0) and (greater_num % num2 == 0)):\n",
    "            lcm = greater_num\n",
    "            break\n",
    "        greater_num += 1\n",
    "        \n",
    "    return \"LCM of numbers {} and {} is : {} \".format(num1, num2, lcm)"
   ]
  },
  {
   "cell_type": "code",
   "execution_count": 4,
   "metadata": {},
   "outputs": [
    {
     "name": "stdout",
     "output_type": "stream",
     "text": [
      "Enter first number: 2\n",
      "Enter second number: 3\n"
     ]
    },
    {
     "data": {
      "text/plain": [
       "'LCM of numbers 2 and 3 is : 6 '"
      ]
     },
     "execution_count": 4,
     "metadata": {},
     "output_type": "execute_result"
    }
   ],
   "source": [
    "find_lcm()"
   ]
  },
  {
   "cell_type": "markdown",
   "metadata": {},
   "source": [
    "2.\tWrite a Python Program to Find HCF?"
   ]
  },
  {
   "cell_type": "code",
   "execution_count": 9,
   "metadata": {},
   "outputs": [],
   "source": [
    "###Answer2\n",
    "def find_hcf():\n",
    "    num1 = int(input(\"Enter first number: \"))\n",
    "    num2 = int(input(\"Enter second number: \"))\n",
    "    \n",
    "    if num1 > num2:\n",
    "        smaller_num = num2\n",
    "    else:\n",
    "        smaller_num = num1\n",
    "        \n",
    "    for num in range(1, smaller_num + 1):\n",
    "        if((num1 % num == 0) and (num2 % num == 0)):\n",
    "            hcf = num\n",
    "        \n",
    "    return \"HCF of numbers {} and {} is : {} \".format(num1, num2, hcf)"
   ]
  },
  {
   "cell_type": "code",
   "execution_count": 11,
   "metadata": {},
   "outputs": [
    {
     "name": "stdout",
     "output_type": "stream",
     "text": [
      "Enter first number: 36\n",
      "Enter second number: 72\n"
     ]
    },
    {
     "data": {
      "text/plain": [
       "'HCF of numbers 36 and 72 is : 36 '"
      ]
     },
     "execution_count": 11,
     "metadata": {},
     "output_type": "execute_result"
    }
   ],
   "source": [
    "find_hcf()"
   ]
  },
  {
   "cell_type": "markdown",
   "metadata": {},
   "source": [
    "3.\tWrite a Python Program to Convert Decimal to Binary, Octal and Hexadecimal?"
   ]
  },
  {
   "cell_type": "code",
   "execution_count": 14,
   "metadata": {},
   "outputs": [
    {
     "data": {
      "text/plain": [
       "'def number_conversion():\\n    num = int(input(\"Enter number to convert into your choice of base number: \"))\\n    choice = input(\"Enter your choice to convert a number into Binary, Octal, Hexadecimal: \")\\n    \\n    if (choice == \"Binary\" or choice == \"binary\" or choice == \"bin\"):\\n        print(\"Binary of the number {} is {}\".format(num, bin(num)))\\n    if (choice == \"Octal\" or choice == \"octal\" or choice == \"oct\"):\\n        print(\"Octal of the number {} is {}\".format(num, oct(num)))\\n    if (choice == \"Binary\" or choice == \"binary\" or choice == \"bin\"):\\n        print(\"Hexadecimal of the number {} is {}\".format(num, hex(num)))'"
      ]
     },
     "execution_count": 14,
     "metadata": {},
     "output_type": "execute_result"
    }
   ],
   "source": [
    "###Answer3\n",
    "\n",
    "def number_conversion():\n",
    "    num = int(input(\"Enter number to convert into your choice of base number: \"))\n",
    "    \n",
    "    print(\"Binary of the number {} is {}\".format(num, bin(num)))\n",
    "    print(\"Octal of the number {} is {}\".format(num, oct(num)))\n",
    "    print(\"Hexadecimal of the number {} is {}\".format(num, hex(num)))\n",
    "\n",
    "\"\"\"def number_conversion_with_choice():\n",
    "    num = int(input(\"Enter number to convert into your choice of base number: \"))\n",
    "    choice = input(\"Enter your choice to convert a number into Binary, Octal, Hexadecimal: \")\n",
    "    \n",
    "    if (choice == \"Binary\" or choice == \"binary\" or choice == \"bin\"):\n",
    "        print(\"Binary of the number {} is {}\".format(num, bin(num)))\n",
    "    if (choice == \"Octal\" or choice == \"octal\" or choice == \"oct\"):\n",
    "        print(\"Octal of the number {} is {}\".format(num, oct(num)))\n",
    "    if (choice == \"Binary\" or choice == \"binary\" or choice == \"bin\"):\n",
    "        print(\"Hexadecimal of the number {} is {}\".format(num, hex(num)))\"\"\""
   ]
  },
  {
   "cell_type": "code",
   "execution_count": 16,
   "metadata": {},
   "outputs": [
    {
     "name": "stdout",
     "output_type": "stream",
     "text": [
      "Enter number to convert into your choice of base number: 567\n",
      "Binary of the number 567 is 0b1000110111\n",
      "Octal of the number 567 is 0o1067\n",
      "Hexadecimal of the number 567 is 0x237\n"
     ]
    }
   ],
   "source": [
    "number_conversion()"
   ]
  },
  {
   "cell_type": "markdown",
   "metadata": {},
   "source": [
    "4.\tWrite a Python Program To Find ASCII value of a character?"
   ]
  },
  {
   "cell_type": "code",
   "execution_count": 17,
   "metadata": {},
   "outputs": [],
   "source": [
    "###Answer4\n",
    "def ascii_finder():\n",
    "    char = input(\"Enter any character: \")\n",
    "    print(\"ASCII value of your entered character {} is : {}\".format(char, ord(char)))"
   ]
  },
  {
   "cell_type": "code",
   "execution_count": 19,
   "metadata": {},
   "outputs": [
    {
     "name": "stdout",
     "output_type": "stream",
     "text": [
      "Enter any character: i\n",
      "ASCII value of your entered character i is : 105\n"
     ]
    }
   ],
   "source": [
    "ascii_finder()"
   ]
  },
  {
   "cell_type": "markdown",
   "metadata": {},
   "source": [
    "5.\tWrite a Python Program to Make a Simple Calculator with 4 basic mathematical operations?"
   ]
  },
  {
   "cell_type": "code",
   "execution_count": 21,
   "metadata": {},
   "outputs": [
    {
     "name": "stdout",
     "output_type": "stream",
     "text": [
      "Select your operation: 1 for Addition,  2 for Subtraction 3 for Division 4 for Multiplication: 1\n",
      "Enter first number: 5\n",
      "Enter second number: 6\n",
      "Addition of numbers 5.0 and 6.0 is =  11.0\n",
      "Do you want to continue? (yes/no): yes\n",
      "Select your operation: 1 for Addition,  2 for Subtraction 3 for Division 4 for Multiplication: 4\n",
      "Enter first number: 3\n",
      "Enter second number: 4\n",
      "Addition of numbers 3.0 and 4.0 is =  12.0\n",
      "Do you want to continue? (yes/no): yes\n",
      "Select your operation: 1 for Addition,  2 for Subtraction 3 for Division 4 for Multiplication: 2\n",
      "Enter first number: 5\n",
      "Enter second number: 6\n",
      "Addition of numbers 5.0 and 6.0 is =  -1.0\n",
      "Do you want to continue? (yes/no): yes\n",
      "Select your operation: 1 for Addition,  2 for Subtraction 3 for Division 4 for Multiplication: 3\n",
      "Enter first number: 6\n",
      "Enter second number: 7\n",
      "Addition of numbers 6.0 and 7.0 is =  0.8571428571428571\n",
      "Do you want to continue? (yes/no): no\n"
     ]
    }
   ],
   "source": [
    "###Answer5\n",
    "def add(num1, num2):\n",
    "    return num1 + num2\n",
    "\n",
    "def subtract(num1, num2):\n",
    "    return num1 - num2\n",
    "\n",
    "def division(num1, num2):\n",
    "    return num1 / num2\n",
    "\n",
    "def multiplication(num1, num2):\n",
    "    return num1 * num2\n",
    "\n",
    "while True:\n",
    "    choice = input(\"Select your operation: 1 for Addition,  2 for Subtraction 3 for Division 4 for Multiplication: \")\n",
    "    \n",
    "    if choice in (\"1\", \"2\", \"3\", \"4\"):\n",
    "        num1 = float(input(\"Enter first number: \"))\n",
    "        num2 = float(input(\"Enter second number: \"))\n",
    "        if (choice == \"1\"):\n",
    "            print(\"Addition of numbers {} and {} is =  {}\".format(num1, num2, add(num1, num2)))\n",
    "            \n",
    "        if (choice == \"2\"):\n",
    "            print(\"Addition of numbers {} and {} is =  {}\".format(num1, num2, subtract(num1, num2)))\n",
    "            \n",
    "        if (choice == \"3\"):\n",
    "            print(\"Addition of numbers {} and {} is =  {}\".format(num1, num2, division(num1, num2)))\n",
    "            \n",
    "        if (choice == \"4\"):\n",
    "            print(\"Addition of numbers {} and {} is =  {}\".format(num1, num2, multiplication(num1, num2)))\n",
    "            \n",
    "        next_choice = input(\"Do you want to continue? (yes/no): \")\n",
    "        \n",
    "        if next_choice == \"no\":\n",
    "            break\n",
    "            \n",
    "    else:\n",
    "        print(\"You entered invalid choice. Please enter correct choice\")"
   ]
  }
 ],
 "metadata": {
  "kernelspec": {
   "display_name": "Python 3",
   "language": "python",
   "name": "python3"
  },
  "language_info": {
   "codemirror_mode": {
    "name": "ipython",
    "version": 3
   },
   "file_extension": ".py",
   "mimetype": "text/x-python",
   "name": "python",
   "nbconvert_exporter": "python",
   "pygments_lexer": "ipython3",
   "version": "3.8.5"
  }
 },
 "nbformat": 4,
 "nbformat_minor": 4
}
