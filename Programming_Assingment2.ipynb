{
 "cells": [
  {
   "cell_type": "markdown",
   "metadata": {},
   "source": [
    "1.\tWrite a Python program to convert kilometers to miles?"
   ]
  },
  {
   "cell_type": "code",
   "execution_count": 1,
   "metadata": {},
   "outputs": [],
   "source": [
    "### Answer 1\n",
    "### following function is used convert kilometer values into miles\n",
    "def km_to_miles():\n",
    "    km = int(input(\"Enter the kilometres to convert into miles: \"))\n",
    "    miles = km * 0.621371\n",
    "    return \"{} kilometers is equal to {} miles\".format(km, miles)"
   ]
  },
  {
   "cell_type": "code",
   "execution_count": 2,
   "metadata": {},
   "outputs": [
    {
     "name": "stdout",
     "output_type": "stream",
     "text": [
      "Enter the kilometres to convert into miles: 5\n"
     ]
    },
    {
     "data": {
      "text/plain": [
       "'5 kilometers is equal to 3.106855 miles'"
      ]
     },
     "execution_count": 2,
     "metadata": {},
     "output_type": "execute_result"
    }
   ],
   "source": [
    "km_to_miles()"
   ]
  },
  {
   "cell_type": "markdown",
   "metadata": {},
   "source": [
    "2.\tWrite a Python program to convert Celsius to Fahrenheit?"
   ]
  },
  {
   "cell_type": "code",
   "execution_count": 3,
   "metadata": {},
   "outputs": [],
   "source": [
    "### Answer 2\n",
    "###following function is used to convert celcius values into farhenite\n",
    "def celcius_to_farhenite():\n",
    "    celcius = int(input(\"Enter temerature in celcius to convert into farhenite: \"))\n",
    "    farhenite = (celcius * (9/5)) + 32\n",
    "    return \"{} degree celcius is equal to {} farhenite\".format(celcius, farhenite)"
   ]
  },
  {
   "cell_type": "code",
   "execution_count": 4,
   "metadata": {},
   "outputs": [
    {
     "name": "stdout",
     "output_type": "stream",
     "text": [
      "Enter temerature in celcius to convert into farhenite: 0\n"
     ]
    },
    {
     "data": {
      "text/plain": [
       "'0 degree celcius is equal to 32.0 farhenite'"
      ]
     },
     "execution_count": 4,
     "metadata": {},
     "output_type": "execute_result"
    }
   ],
   "source": [
    "celcius_to_farhenite()"
   ]
  },
  {
   "cell_type": "markdown",
   "metadata": {},
   "source": [
    "3.\tWrite a Python program to display calendar?"
   ]
  },
  {
   "cell_type": "code",
   "execution_count": 12,
   "metadata": {},
   "outputs": [],
   "source": [
    "### Answer 3\n",
    "### following function is used to display calendar for a month when user inputs month and year\n",
    "import calendar\n",
    "\n",
    "def display_month_calendar():\n",
    "    mm = int(input(\"Enter month in format mm : \"))\n",
    "    yyyy = int(input(\"Enter year in format yyyy :\"))\n",
    "    \n",
    "    print(calendar.month(yyyy, mm))"
   ]
  },
  {
   "cell_type": "code",
   "execution_count": 13,
   "metadata": {},
   "outputs": [
    {
     "name": "stdout",
     "output_type": "stream",
     "text": [
      "Enter month in format mm : 02\n",
      "Enter year in format yyyy :2022\n",
      "   February 2022\n",
      "Mo Tu We Th Fr Sa Su\n",
      "    1  2  3  4  5  6\n",
      " 7  8  9 10 11 12 13\n",
      "14 15 16 17 18 19 20\n",
      "21 22 23 24 25 26 27\n",
      "28\n",
      "\n"
     ]
    }
   ],
   "source": [
    "display_month_calendar()"
   ]
  },
  {
   "cell_type": "markdown",
   "metadata": {},
   "source": [
    "4.\tWrite a Python program to solve quadratic equation?"
   ]
  },
  {
   "cell_type": "code",
   "execution_count": 16,
   "metadata": {},
   "outputs": [],
   "source": [
    "### Answer 4\n",
    "### quadratic equation is given by statement ax^2 + bx + c = 0, where a, b, c are real numbers and a != 0\n",
    "def solve_quadratic_equation():\n",
    "    import cmath as cm\n",
    "    a = int(input(\"Enter value for a: \"))\n",
    "    b = int(input(\"Enter value for b: \"))\n",
    "    c = int(input(\"Enter value for c: \"))\n",
    "    \n",
    "    d = ((b ** 2) - ( 4 * a * c))\n",
    "    \n",
    "    #without module\n",
    "    sol1 = (-b - ((((b ** 2) - (4 * a * c)) ** 0.5)))/(2 * a)\n",
    "    sol2 = (-b + ((((b ** 2) - (4 * a * c)) ** 0.5)))/(2 * a)\n",
    "    \n",
    "    #with module\n",
    "    sol1_mod = (-b - cm.sqrt(d))/(2 * a)\n",
    "    sol2_mod = (-b + cm.sqrt(d))/(2 * a)\n",
    "    \n",
    "    print(\"without module, Solution1 is: {} and solution2: is {} \".format(sol1, sol2))\n",
    "    print(\"with module, Solution1 is: {} and solution2: is {} \".format(sol1_mod, sol2_mod))\n",
    "    "
   ]
  },
  {
   "cell_type": "code",
   "execution_count": 17,
   "metadata": {},
   "outputs": [
    {
     "name": "stdout",
     "output_type": "stream",
     "text": [
      "Enter value for a: 1\n",
      "Enter value for b: 5\n",
      "Enter value for c: 6\n",
      "without module, Solution1 is: -3.0 and solution2: is -2.0 \n",
      "with module, Solution1 is: (-3+0j) and solution2: is (-2+0j) \n"
     ]
    }
   ],
   "source": [
    "solve_quadratic_equation()"
   ]
  },
  {
   "cell_type": "markdown",
   "metadata": {},
   "source": [
    "5.\tWrite a Python program to swap two variables without temp variable?"
   ]
  },
  {
   "cell_type": "code",
   "execution_count": 8,
   "metadata": {},
   "outputs": [],
   "source": [
    "### Answer 5\n",
    "#following function is used to swap the values of variables you have entered\n",
    "def swap_two_variable_without_temp():\n",
    "    num1 = int(input(\"Enter first number to swap with second number: \"))\n",
    "    num2 = int(input(\"Enter second number to swap with first number: \"))\n",
    "    print(\"Before swapping value of num1 is {} and num2 is {} \".format(num1, num2))\n",
    "    num1, num2 = num2, num1\n",
    "    \n",
    "    return \"After swapping value of num1 is {} and value of num2 is {}\".format(num1, num2, num1, num2)"
   ]
  },
  {
   "cell_type": "code",
   "execution_count": 9,
   "metadata": {},
   "outputs": [
    {
     "name": "stdout",
     "output_type": "stream",
     "text": [
      "Enter first number to swap with second number: 2\n",
      "Enter second number to swap with first number: 3\n",
      "Before swapping value of num1 is 2 and num2 is 3 \n"
     ]
    },
    {
     "data": {
      "text/plain": [
       "'After swapping value of num1 is 3 and value of num2 is 2'"
      ]
     },
     "execution_count": 9,
     "metadata": {},
     "output_type": "execute_result"
    }
   ],
   "source": [
    "swap_two_variable_without_temp()"
   ]
  }
 ],
 "metadata": {
  "kernelspec": {
   "display_name": "Python 3",
   "language": "python",
   "name": "python3"
  },
  "language_info": {
   "codemirror_mode": {
    "name": "ipython",
    "version": 3
   },
   "file_extension": ".py",
   "mimetype": "text/x-python",
   "name": "python",
   "nbconvert_exporter": "python",
   "pygments_lexer": "ipython3",
   "version": "3.8.5"
  }
 },
 "nbformat": 4,
 "nbformat_minor": 4
}
