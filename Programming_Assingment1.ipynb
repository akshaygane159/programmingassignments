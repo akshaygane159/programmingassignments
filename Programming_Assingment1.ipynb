{
 "cells": [
  {
   "cell_type": "markdown",
   "metadata": {},
   "source": [
    "1.\tWrite a Python program to print \"Hello Python\"?"
   ]
  },
  {
   "cell_type": "code",
   "execution_count": 1,
   "metadata": {},
   "outputs": [
    {
     "name": "stdout",
     "output_type": "stream",
     "text": [
      "Hello Python\n"
     ]
    }
   ],
   "source": [
    "###print function is used to print the parameters/arguments passed on console\n",
    "print(\"Hello Python\")"
   ]
  },
  {
   "cell_type": "markdown",
   "metadata": {},
   "source": [
    "2.\tWrite a Python program to do arithmetical operations addition and division.?"
   ]
  },
  {
   "cell_type": "code",
   "execution_count": 18,
   "metadata": {},
   "outputs": [],
   "source": [
    "###following function is used to perform arithmetical operation\n",
    "def additionOp():\n",
    "    num1 = int(input(\"Enter first number for addition: \"))\n",
    "    num2 = int(input(\"Enter second number for addition: \"))\n",
    "    sum_of_num1_num2 = num1 + num2\n",
    "    return \"Addition of the numbers you entered is: {}\".format(sum_of_num1_num2)\n",
    "\n",
    "###following function is used to perform arithmetical operation\n",
    "def divisionOp():\n",
    "    num1 = int(input(\"Enter first number for division: \"))\n",
    "    num2 = int(input(\"Enter second for number: \"))\n",
    "    try:\n",
    "        div_of_num1_num2 = num1 / num2\n",
    "        print(\"Addition of the numbers you entered is: {}\".format(div_of_num1_num2))\n",
    "    except Exception:\n",
    "        print(\"You can divide by 0 to any number\")"
   ]
  },
  {
   "cell_type": "code",
   "execution_count": 7,
   "metadata": {},
   "outputs": [
    {
     "name": "stdout",
     "output_type": "stream",
     "text": [
      "Enter first number for addition: 5\n",
      "Enter second number for addition: 6\n"
     ]
    },
    {
     "data": {
      "text/plain": [
       "'Addition of the numbers you entered is: 11'"
      ]
     },
     "execution_count": 7,
     "metadata": {},
     "output_type": "execute_result"
    }
   ],
   "source": [
    "additionOp()"
   ]
  },
  {
   "cell_type": "code",
   "execution_count": 8,
   "metadata": {},
   "outputs": [
    {
     "name": "stdout",
     "output_type": "stream",
     "text": [
      "Enter first number for division: 5\n",
      "Enter second for number: 2\n"
     ]
    },
    {
     "data": {
      "text/plain": [
       "'Division of the numbers you entered is: 2.5'"
      ]
     },
     "execution_count": 8,
     "metadata": {},
     "output_type": "execute_result"
    }
   ],
   "source": [
    "divisionOp()"
   ]
  },
  {
   "cell_type": "code",
   "execution_count": 19,
   "metadata": {},
   "outputs": [
    {
     "name": "stdout",
     "output_type": "stream",
     "text": [
      "Enter first number for division: 5\n",
      "Enter second for number: 0\n",
      "You can divide by 0 to any number\n"
     ]
    }
   ],
   "source": [
    "#error handled using try except\n",
    "divisionOp()"
   ]
  },
  {
   "cell_type": "markdown",
   "metadata": {},
   "source": [
    "3.\tWrite a Python program to find the area of a triangle?"
   ]
  },
  {
   "cell_type": "code",
   "execution_count": 22,
   "metadata": {},
   "outputs": [],
   "source": [
    "###defining function for area of a triangle using Heron's formula \n",
    "def areaOfTriangle():\n",
    "    side1 = int(input(\"Enter first side of a triangle: \"))\n",
    "    side2 = int(input(\"Enter second side of a triangle: \"))\n",
    "    side3 = int(input(\"Enter thir2 side of a triangle: \"))\n",
    "    \n",
    "    perimeter_of_triangle = (side1 + side2 + side3)/2\n",
    "    \n",
    "    area_of_trianglle = (perimeter_of_triangle * ((perimeter_of_triangle - side1) * (perimeter_of_triangle - side2) * (perimeter_of_triangle - side3))) ** 0.5\n",
    "    \n",
    "    return \"Area of the triangle with side1: {}, side2: {} and side3: {} is = {}\".format(side1, side2, side3, area_of_trianglle)"
   ]
  },
  {
   "cell_type": "code",
   "execution_count": 23,
   "metadata": {},
   "outputs": [
    {
     "name": "stdout",
     "output_type": "stream",
     "text": [
      "Enter first side of a triangle: 4\n",
      "Enter second side of a triangle: 5\n",
      "Enter thir2 side of a triangle: 6\n"
     ]
    },
    {
     "data": {
      "text/plain": [
       "'Area of the triangle with side1: 4, side2: 5 and side3: 6 is = 9.921567416492215'"
      ]
     },
     "execution_count": 23,
     "metadata": {},
     "output_type": "execute_result"
    }
   ],
   "source": [
    "#calling area of triangle function\n",
    "areaOfTriangle()"
   ]
  },
  {
   "cell_type": "markdown",
   "metadata": {},
   "source": [
    "4.\tWrite a Python program to swap two variables?"
   ]
  },
  {
   "cell_type": "code",
   "execution_count": 36,
   "metadata": {},
   "outputs": [],
   "source": [
    "###definition of swap function\n",
    "def swapNums():\n",
    "    num1 = int(input(\"Enter first number i.e. num1 for swapping: \"))\n",
    "    num2 = int(input(\"Enter second number i.e. num2 for swapping: \"))\n",
    "    \n",
    "    swap_temp = num1\n",
    "    num1 = num2\n",
    "    num2 = swap_temp\n",
    "    \n",
    "    return \"Swapped value for num1 is: {} and num2 is: {}\".format(num1, num2)"
   ]
  },
  {
   "cell_type": "code",
   "execution_count": 37,
   "metadata": {},
   "outputs": [
    {
     "name": "stdout",
     "output_type": "stream",
     "text": [
      "Enter first number i.e. num1 for swapping: 3\n",
      "Enter second number i.e. num2 for swapping: 4\n"
     ]
    },
    {
     "data": {
      "text/plain": [
       "'Swapped value for num1 is: 4 and num2 is: 3'"
      ]
     },
     "execution_count": 37,
     "metadata": {},
     "output_type": "execute_result"
    }
   ],
   "source": [
    "swapNums()"
   ]
  },
  {
   "cell_type": "markdown",
   "metadata": {},
   "source": [
    "5.\tWrite a Python program to generate a random number?"
   ]
  },
  {
   "cell_type": "code",
   "execution_count": 38,
   "metadata": {},
   "outputs": [],
   "source": [
    "### function to generate random number\n",
    "import random\n",
    "\n",
    "def generateRandomNumber(first, last):\n",
    "    return \"Random number generated between {} and {} is: {}\".format(first, last, random.randint(first, last))"
   ]
  },
  {
   "cell_type": "code",
   "execution_count": 40,
   "metadata": {},
   "outputs": [
    {
     "data": {
      "text/plain": [
       "'Random number generated between 2 and 8 is: 6'"
      ]
     },
     "execution_count": 40,
     "metadata": {},
     "output_type": "execute_result"
    }
   ],
   "source": [
    "###calling generateRandomNumber for testing\n",
    "generateRandomNumber(2, 8)"
   ]
  }
 ],
 "metadata": {
  "kernelspec": {
   "display_name": "Python 3",
   "language": "python",
   "name": "python3"
  },
  "language_info": {
   "codemirror_mode": {
    "name": "ipython",
    "version": 3
   },
   "file_extension": ".py",
   "mimetype": "text/x-python",
   "name": "python",
   "nbconvert_exporter": "python",
   "pygments_lexer": "ipython3",
   "version": "3.8.5"
  }
 },
 "nbformat": 4,
 "nbformat_minor": 4
}
