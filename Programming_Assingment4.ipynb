{
 "cells": [
  {
   "cell_type": "markdown",
   "metadata": {},
   "source": [
    "1.\tWrite a Python Program to Find the Factorial of a Number?"
   ]
  },
  {
   "cell_type": "code",
   "execution_count": 6,
   "metadata": {},
   "outputs": [],
   "source": [
    "#Answer1\n",
    "def factorial_of_number():\n",
    "    num = int(input(\"Enter any number to find its factorial: \"))\n",
    "    \n",
    "    factorial = 1\n",
    "    if( num < 0 ):\n",
    "        print(\"We can not find factorial for negative numbers. Please enter non zero number.\")\n",
    "    elif(num == 0):\n",
    "        print(\"Factorial for zero is 1\")\n",
    "    else:\n",
    "        for i in range( 1, num +1 ):\n",
    "            factorial = factorial * i\n",
    "    return \"Factorial for your entered number {} is : {} \".format(num, factorial)"
   ]
  },
  {
   "cell_type": "code",
   "execution_count": 7,
   "metadata": {},
   "outputs": [
    {
     "name": "stdout",
     "output_type": "stream",
     "text": [
      "Enter any number to find its factorial: 5\n"
     ]
    },
    {
     "data": {
      "text/plain": [
       "'Factorial for your entered number 5 is : 120 '"
      ]
     },
     "execution_count": 7,
     "metadata": {},
     "output_type": "execute_result"
    }
   ],
   "source": [
    "###for any number\n",
    "factorial_of_number()"
   ]
  },
  {
   "cell_type": "code",
   "execution_count": 8,
   "metadata": {},
   "outputs": [
    {
     "name": "stdout",
     "output_type": "stream",
     "text": [
      "Enter any number to find its factorial: 0\n",
      "Factorial for zero is 1\n"
     ]
    },
    {
     "data": {
      "text/plain": [
       "'Factorial for your entered number 0 is : 1 '"
      ]
     },
     "execution_count": 8,
     "metadata": {},
     "output_type": "execute_result"
    }
   ],
   "source": [
    "#for zero \n",
    "factorial_of_number()"
   ]
  },
  {
   "cell_type": "code",
   "execution_count": 9,
   "metadata": {},
   "outputs": [
    {
     "name": "stdout",
     "output_type": "stream",
     "text": [
      "Enter any number to find its factorial: -5\n",
      "We can not find factorial for negative numbers. Please enter non zero number.\n"
     ]
    },
    {
     "data": {
      "text/plain": [
       "'Factorial for your entered number -5 is : 1 '"
      ]
     },
     "execution_count": 9,
     "metadata": {},
     "output_type": "execute_result"
    }
   ],
   "source": [
    "#for negative\n",
    "factorial_of_number()"
   ]
  },
  {
   "cell_type": "markdown",
   "metadata": {},
   "source": [
    "2.\tWrite a Python Program to Display the multiplication Table?"
   ]
  },
  {
   "cell_type": "code",
   "execution_count": 12,
   "metadata": {},
   "outputs": [],
   "source": [
    "#Answer2\n",
    "def table_for_number():\n",
    "    num = int(input(\"Enter any number to find its table: \"))\n",
    "    \n",
    "    print(\"Following is the table your entered number {}: \".format(num))\n",
    "    for i in range(1, 11):\n",
    "        print(num * i)"
   ]
  },
  {
   "cell_type": "code",
   "execution_count": 13,
   "metadata": {},
   "outputs": [
    {
     "name": "stdout",
     "output_type": "stream",
     "text": [
      "Enter any number to find its table: 7\n",
      "Following is the table your entered number 7: \n",
      "7\n",
      "14\n",
      "21\n",
      "28\n",
      "35\n",
      "42\n",
      "49\n",
      "56\n",
      "63\n",
      "70\n"
     ]
    }
   ],
   "source": [
    "table_for_number()"
   ]
  },
  {
   "cell_type": "markdown",
   "metadata": {},
   "source": [
    "3.\tWrite a Python Program to Print the Fibonacci sequence?"
   ]
  },
  {
   "cell_type": "code",
   "execution_count": 18,
   "metadata": {},
   "outputs": [],
   "source": [
    "#Answer3\n",
    "def fibonacci_sequence():\n",
    "    nth_term = int(input(\"Enter your the number to generate fibonaaci number sequence till: \"))\n",
    "    \n",
    "    n1, n2 = 0, 1\n",
    "    counter = 0\n",
    "    \n",
    "    if(nth_term <= 0):\n",
    "        print(\"You can only have fibonacci for positive\")\n",
    "    elif(nth_term == 1):\n",
    "        print(\"Fibonacci sequence for {} is: {}\".format(nth_term, n1))\n",
    "    else:\n",
    "        print(\"Following is the fibonacci series for your entered number: \")\n",
    "        while counter < nth_term:\n",
    "            print(n1)\n",
    "            nth = n1 + n2\n",
    "            n1 = n2\n",
    "            n2 = nth\n",
    "            counter += 1"
   ]
  },
  {
   "cell_type": "code",
   "execution_count": 19,
   "metadata": {},
   "outputs": [
    {
     "name": "stdout",
     "output_type": "stream",
     "text": [
      "Enter your the number to generate fibonaaci number sequence till: 5\n",
      "Following is the fibonacci series for your entered number: \n",
      "0\n",
      "1\n",
      "1\n",
      "2\n",
      "3\n"
     ]
    }
   ],
   "source": [
    "### test case: for positive numbers\n",
    "fibonacci_sequence()"
   ]
  },
  {
   "cell_type": "code",
   "execution_count": 20,
   "metadata": {},
   "outputs": [
    {
     "name": "stdout",
     "output_type": "stream",
     "text": [
      "Enter your the number to generate fibonaaci number sequence till: 0\n",
      "You can only have fibonacci for positive\n"
     ]
    }
   ],
   "source": [
    "### test case: for zero:\n",
    "fibonacci_sequence()"
   ]
  },
  {
   "cell_type": "code",
   "execution_count": 21,
   "metadata": {},
   "outputs": [
    {
     "name": "stdout",
     "output_type": "stream",
     "text": [
      "Enter your the number to generate fibonaaci number sequence till: -5\n",
      "You can only have fibonacci for positive\n"
     ]
    }
   ],
   "source": [
    "### test case: for negative:\n",
    "fibonacci_sequence()"
   ]
  },
  {
   "cell_type": "markdown",
   "metadata": {},
   "source": [
    "4.\tWrite a Python Program to Check Armstrong Number?"
   ]
  },
  {
   "cell_type": "code",
   "execution_count": 22,
   "metadata": {},
   "outputs": [],
   "source": [
    "#Answer4\n",
    "\n",
    "def check_if_num_is_armstrong():\n",
    "    num = input(\"Enter any number: \")\n",
    "    len_num = len(num)\n",
    "    int_num = int(num)\n",
    "    sum = 0\n",
    "    temp = int_num\n",
    "    while temp > 0:\n",
    "        digit = temp % 10\n",
    "        sum += digit ** len_num\n",
    "        temp //= 10\n",
    "\n",
    "    if int_num == sum:\n",
    "        print(int_num,\"is an Armstrong number\")\n",
    "    else:\n",
    "        print(int_num,\"is not an Armstrong number\")"
   ]
  },
  {
   "cell_type": "code",
   "execution_count": 25,
   "metadata": {},
   "outputs": [
    {
     "name": "stdout",
     "output_type": "stream",
     "text": [
      "Enter any number: 765\n",
      "765 is not an Armstrong number\n"
     ]
    }
   ],
   "source": [
    "check_if_num_is_armstrong()"
   ]
  },
  {
   "cell_type": "code",
   "execution_count": 26,
   "metadata": {},
   "outputs": [
    {
     "name": "stdout",
     "output_type": "stream",
     "text": [
      "Enter any number: 370\n",
      "370 is an Armstrong number\n"
     ]
    }
   ],
   "source": [
    "check_if_num_is_armstrong()"
   ]
  },
  {
   "cell_type": "code",
   "execution_count": 27,
   "metadata": {},
   "outputs": [
    {
     "name": "stdout",
     "output_type": "stream",
     "text": [
      "Enter any number: 1634\n",
      "1634 is an Armstrong number\n"
     ]
    }
   ],
   "source": [
    "check_if_num_is_armstrong()"
   ]
  },
  {
   "cell_type": "code",
   "execution_count": 28,
   "metadata": {},
   "outputs": [
    {
     "name": "stdout",
     "output_type": "stream",
     "text": [
      "Enter any number: 6565\n",
      "6565 is not an Armstrong number\n"
     ]
    }
   ],
   "source": [
    "check_if_num_is_armstrong()"
   ]
  },
  {
   "cell_type": "code",
   "execution_count": 29,
   "metadata": {},
   "outputs": [
    {
     "name": "stdout",
     "output_type": "stream",
     "text": [
      "Enter any number: 548834\n",
      "548834 is an Armstrong number\n"
     ]
    }
   ],
   "source": [
    "check_if_num_is_armstrong()"
   ]
  },
  {
   "cell_type": "markdown",
   "metadata": {},
   "source": [
    "5.\tWrite a Python Program to Find Armstrong Number in an Interval?"
   ]
  },
  {
   "cell_type": "code",
   "execution_count": 42,
   "metadata": {},
   "outputs": [],
   "source": [
    "###Answer5\n",
    "def find_all_armstrong_num():\n",
    "    start_num = int(input(\"Enter number to start finding: \"))\n",
    "    end_num = int(input(\"Enter number to end within: \"))\n",
    "    armstrong_num_list = []\n",
    "    not_armstrong_num_list = []\n",
    "    \n",
    "    \n",
    "    for num in range(start_num, end_num):\n",
    "        len_num = len(str(num))\n",
    "        int_num = int(num)\n",
    "        sum = 0\n",
    "        temp = int_num\n",
    "        while temp > 0:\n",
    "            digit = temp % 10\n",
    "            sum += digit ** len_num\n",
    "            temp //= 10\n",
    "\n",
    "        if int_num == sum:\n",
    "            armstrong_num_list.append(int_num)\n",
    "        else:\n",
    "            not_armstrong_num_list.append(int_num)\n",
    "        \n",
    "    return armstrong_num_list"
   ]
  },
  {
   "cell_type": "code",
   "execution_count": 44,
   "metadata": {},
   "outputs": [
    {
     "name": "stdout",
     "output_type": "stream",
     "text": [
      "Enter number to start finding: 1\n",
      "Enter number to end within: 1000\n"
     ]
    },
    {
     "data": {
      "text/plain": [
       "[1, 2, 3, 4, 5, 6, 7, 8, 9, 153, 370, 371, 407]"
      ]
     },
     "execution_count": 44,
     "metadata": {},
     "output_type": "execute_result"
    }
   ],
   "source": [
    "find_all_armstrong_num()"
   ]
  },
  {
   "cell_type": "code",
   "execution_count": 45,
   "metadata": {},
   "outputs": [
    {
     "name": "stdout",
     "output_type": "stream",
     "text": [
      "Enter number to start finding: 100\n",
      "Enter number to end within: 2000\n"
     ]
    },
    {
     "data": {
      "text/plain": [
       "[153, 370, 371, 407, 1634]"
      ]
     },
     "execution_count": 45,
     "metadata": {},
     "output_type": "execute_result"
    }
   ],
   "source": [
    "find_all_armstrong_num()"
   ]
  },
  {
   "cell_type": "markdown",
   "metadata": {},
   "source": [
    "6.\tWrite a Python Program to Find the Sum of Natural Numbers?"
   ]
  },
  {
   "cell_type": "code",
   "execution_count": 50,
   "metadata": {},
   "outputs": [],
   "source": [
    "#Answer6\n",
    "def sum_of_natural_number():\n",
    "    range_num = int(input(\"Enter range of the number to find sum till: \"))\n",
    "    temp = range_num\n",
    "    if(temp < 0):\n",
    "        print(\"Please enter non zero number\")\n",
    "    else:\n",
    "        sum = 0\n",
    "        while(temp > 0):\n",
    "            sum += temp\n",
    "            temp -= 1\n",
    "        print(\"Number of all natural numbers from 0 to {} is: {}\".format(range_num, sum))"
   ]
  },
  {
   "cell_type": "code",
   "execution_count": 52,
   "metadata": {},
   "outputs": [
    {
     "name": "stdout",
     "output_type": "stream",
     "text": [
      "Enter range of the number to find sum till: 50\n",
      "Number of all natural numbers from 0 to 50 is: 1275\n"
     ]
    }
   ],
   "source": [
    "sum_of_natural_number()"
   ]
  }
 ],
 "metadata": {
  "kernelspec": {
   "display_name": "Python 3",
   "language": "python",
   "name": "python3"
  },
  "language_info": {
   "codemirror_mode": {
    "name": "ipython",
    "version": 3
   },
   "file_extension": ".py",
   "mimetype": "text/x-python",
   "name": "python",
   "nbconvert_exporter": "python",
   "pygments_lexer": "ipython3",
   "version": "3.8.5"
  }
 },
 "nbformat": 4,
 "nbformat_minor": 4
}
